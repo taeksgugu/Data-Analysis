{
 "cells": [
  {
   "cell_type": "markdown",
   "metadata": {},
   "source": [
    "# UCI 암 진단 예측"
   ]
  },
  {
   "cell_type": "code",
   "execution_count": 9,
   "metadata": {},
   "outputs": [],
   "source": [
    "### 기본 라이브러리 불러오기\n",
    "import pandas as pd\n",
    "import numpy as np"
   ]
  },
  {
   "cell_type": "markdown",
   "metadata": {},
   "source": [
    "## 1. 데이터 준비/ 기본 설정"
   ]
  },
  {
   "cell_type": "code",
   "execution_count": 10,
   "metadata": {},
   "outputs": [],
   "source": [
    "# Breast Cancer 데이터셋 가져오기 (출처: UCI ML Repository)\n",
    "uci_path = 'https://archive.ics.uci.edu/ml/machine-learning-databases/\\\n",
    "breast-cancer-wisconsin/breast-cancer-wisconsin.data'\n",
    "\n",
    "df = pd.read_csv(uci_path, header=None)\n",
    "\n",
    "# 열 이름 지정\n",
    "df.columns = ['id','clump','cell_size','cell_shape', 'adhesion','epithlial',\n",
    "              'bare_nuclei','chromatin','normal_nucleoli', 'mitoses', 'class'] "
   ]
  },
  {
   "cell_type": "code",
   "execution_count": 11,
   "metadata": {},
   "outputs": [
    {
     "data": {
      "text/plain": [
       "class\n",
       "2    458\n",
       "4    241\n",
       "Name: id, dtype: int64"
      ]
     },
     "execution_count": 11,
     "metadata": {},
     "output_type": "execute_result"
    }
   ],
   "source": [
    "df.groupby('class')['id'].count()"
   ]
  },
  {
   "cell_type": "markdown",
   "metadata": {},
   "source": [
    "## 2. 데이터 탐색"
   ]
  },
  {
   "cell_type": "code",
   "execution_count": 12,
   "metadata": {},
   "outputs": [
    {
     "name": "stdout",
     "output_type": "stream",
     "text": [
      "        id  clump  cell_size  cell_shape  adhesion  epithlial bare_nuclei  \\\n",
      "0  1000025      5          1           1         1          2           1   \n",
      "1  1002945      5          4           4         5          7          10   \n",
      "2  1015425      3          1           1         1          2           2   \n",
      "3  1016277      6          8           8         1          3           4   \n",
      "4  1017023      4          1           1         3          2           1   \n",
      "\n",
      "   chromatin  normal_nucleoli  mitoses  class  \n",
      "0          3                1        1      2  \n",
      "1          3                2        1      2  \n",
      "2          3                1        1      2  \n",
      "3          3                7        1      2  \n",
      "4          3                1        1      2  \n"
     ]
    }
   ],
   "source": [
    "print(df.head())  "
   ]
  },
  {
   "cell_type": "code",
   "execution_count": 13,
   "metadata": {},
   "outputs": [
    {
     "name": "stdout",
     "output_type": "stream",
     "text": [
      "<class 'pandas.core.frame.DataFrame'>\n",
      "RangeIndex: 699 entries, 0 to 698\n",
      "Data columns (total 11 columns):\n",
      " #   Column           Non-Null Count  Dtype \n",
      "---  ------           --------------  ----- \n",
      " 0   id               699 non-null    int64 \n",
      " 1   clump            699 non-null    int64 \n",
      " 2   cell_size        699 non-null    int64 \n",
      " 3   cell_shape       699 non-null    int64 \n",
      " 4   adhesion         699 non-null    int64 \n",
      " 5   epithlial        699 non-null    int64 \n",
      " 6   bare_nuclei      699 non-null    object\n",
      " 7   chromatin        699 non-null    int64 \n",
      " 8   normal_nucleoli  699 non-null    int64 \n",
      " 9   mitoses          699 non-null    int64 \n",
      " 10  class            699 non-null    int64 \n",
      "dtypes: int64(10), object(1)\n",
      "memory usage: 60.2+ KB\n",
      "None\n"
     ]
    }
   ],
   "source": [
    "# 데이터 자료형 확인\n",
    "print(df.info())"
   ]
  },
  {
   "cell_type": "code",
   "execution_count": 14,
   "metadata": {},
   "outputs": [
    {
     "name": "stdout",
     "output_type": "stream",
     "text": [
      "                 id       clump   cell_size  cell_shape    adhesion  \\\n",
      "count  6.990000e+02  699.000000  699.000000  699.000000  699.000000   \n",
      "mean   1.071704e+06    4.417740    3.134478    3.207439    2.806867   \n",
      "std    6.170957e+05    2.815741    3.051459    2.971913    2.855379   \n",
      "min    6.163400e+04    1.000000    1.000000    1.000000    1.000000   \n",
      "25%    8.706885e+05    2.000000    1.000000    1.000000    1.000000   \n",
      "50%    1.171710e+06    4.000000    1.000000    1.000000    1.000000   \n",
      "75%    1.238298e+06    6.000000    5.000000    5.000000    4.000000   \n",
      "max    1.345435e+07   10.000000   10.000000   10.000000   10.000000   \n",
      "\n",
      "        epithlial   chromatin  normal_nucleoli     mitoses       class  \n",
      "count  699.000000  699.000000       699.000000  699.000000  699.000000  \n",
      "mean     3.216023    3.437768         2.866953    1.589413    2.689557  \n",
      "std      2.214300    2.438364         3.053634    1.715078    0.951273  \n",
      "min      1.000000    1.000000         1.000000    1.000000    2.000000  \n",
      "25%      2.000000    2.000000         1.000000    1.000000    2.000000  \n",
      "50%      2.000000    3.000000         1.000000    1.000000    2.000000  \n",
      "75%      4.000000    5.000000         4.000000    1.000000    4.000000  \n",
      "max     10.000000   10.000000        10.000000   10.000000    4.000000  \n"
     ]
    }
   ],
   "source": [
    "# 데이터 통계 요약정보 확인\n",
    "print(df.describe())"
   ]
  },
  {
   "cell_type": "markdown",
   "metadata": {},
   "source": [
    "## 3. 데이타 전처리"
   ]
  },
  {
   "cell_type": "markdown",
   "metadata": {},
   "source": [
    "- bare_nuclei 열을 제외한 모든 열은 숫자형, bare_nuclei 열을 숫자형으로 변환"
   ]
  },
  {
   "cell_type": "code",
   "execution_count": 15,
   "metadata": {},
   "outputs": [
    {
     "name": "stdout",
     "output_type": "stream",
     "text": [
      "['1' '10' '2' '4' '3' '9' '7' '?' '5' '8' '6']\n"
     ]
    }
   ],
   "source": [
    "# bare_nuclei 열의 자료형 변경 (문자열 ->숫자)\n",
    "print(df['bare_nuclei'].unique())                         # bare_nuclei 열의 고유값 확인"
   ]
  },
  {
   "cell_type": "code",
   "execution_count": 16,
   "metadata": {},
   "outputs": [],
   "source": [
    "df['bare_nuclei'].replace('?', np.nan, inplace=True)      # '?'을 np.nan으로 변경\n",
    "df.dropna(subset=['bare_nuclei'], axis=0, inplace=True)   # 누락데이터 행을 삭제\n",
    "df['bare_nuclei'] = df['bare_nuclei'].astype('int')       # 문자열을 정수형으로 변환"
   ]
  },
  {
   "cell_type": "code",
   "execution_count": 17,
   "metadata": {},
   "outputs": [
    {
     "name": "stdout",
     "output_type": "stream",
     "text": [
      "                 id       clump   cell_size  cell_shape    adhesion  \\\n",
      "count  6.830000e+02  683.000000  683.000000  683.000000  683.000000   \n",
      "mean   1.076720e+06    4.442167    3.150805    3.215227    2.830161   \n",
      "std    6.206440e+05    2.820761    3.065145    2.988581    2.864562   \n",
      "min    6.337500e+04    1.000000    1.000000    1.000000    1.000000   \n",
      "25%    8.776170e+05    2.000000    1.000000    1.000000    1.000000   \n",
      "50%    1.171795e+06    4.000000    1.000000    1.000000    1.000000   \n",
      "75%    1.238705e+06    6.000000    5.000000    5.000000    4.000000   \n",
      "max    1.345435e+07   10.000000   10.000000   10.000000   10.000000   \n",
      "\n",
      "        epithlial  bare_nuclei   chromatin  normal_nucleoli     mitoses  \\\n",
      "count  683.000000   683.000000  683.000000       683.000000  683.000000   \n",
      "mean     3.234261     3.544656    3.445095         2.869693    1.603221   \n",
      "std      2.223085     3.643857    2.449697         3.052666    1.732674   \n",
      "min      1.000000     1.000000    1.000000         1.000000    1.000000   \n",
      "25%      2.000000     1.000000    2.000000         1.000000    1.000000   \n",
      "50%      2.000000     1.000000    3.000000         1.000000    1.000000   \n",
      "75%      4.000000     6.000000    5.000000         4.000000    1.000000   \n",
      "max     10.000000    10.000000   10.000000        10.000000   10.000000   \n",
      "\n",
      "            class  \n",
      "count  683.000000  \n",
      "mean     2.699854  \n",
      "std      0.954592  \n",
      "min      2.000000  \n",
      "25%      2.000000  \n",
      "50%      2.000000  \n",
      "75%      4.000000  \n",
      "max      4.000000  \n"
     ]
    }
   ],
   "source": [
    "print(df.describe())                                      # 데이터 통계 요약정보 확인"
   ]
  },
  {
   "cell_type": "markdown",
   "metadata": {},
   "source": [
    "## 4. 데이터셋 구분 - 훈련용(train data)/ 검증용(test data)\n",
    "- 종속변수 : class 열\n",
    "- 설명변수 : 나머지 열, 설명 변수의 정규화 진행\n",
    "- 훈련 데이타와 검증 데이타를 분리(검증: 30%)"
   ]
  },
  {
   "cell_type": "code",
   "execution_count": 18,
   "metadata": {},
   "outputs": [
    {
     "name": "stdout",
     "output_type": "stream",
     "text": [
      "train data 개수:  (478, 9)\n",
      "test data 개수:  (205, 9)\n"
     ]
    }
   ],
   "source": [
    "# 속성(변수) 선택\n",
    "X=df[['clump','cell_size','cell_shape', 'adhesion','epithlial',\n",
    "      'bare_nuclei','chromatin','normal_nucleoli', 'mitoses']]  #설명 변수 X\n",
    "y=df['class']                                                   #예측 변수 Y\n",
    "\n",
    "# 설명 변수 데이터를 정규화\n",
    "from sklearn import preprocessing\n",
    "X = preprocessing.StandardScaler().fit(X).transform(X)\n",
    "\n",
    "# train data 와 test data로 구분(7:3 비율)\n",
    "from sklearn.model_selection import train_test_split\n",
    "X_train, X_test, y_train, y_test = train_test_split(X, y, test_size=0.3, random_state=10) \n",
    "\n",
    "print('train data 개수: ', X_train.shape)\n",
    "print('test data 개수: ', X_test.shape)"
   ]
  },
  {
   "cell_type": "markdown",
   "metadata": {},
   "source": [
    "## 5. 분류 모형, 학습, 평가"
   ]
  },
  {
   "cell_type": "code",
   "execution_count": 30,
   "metadata": {},
   "outputs": [
    {
     "name": "stdout",
     "output_type": "stream",
     "text": [
      "final params {'criterion': 'entropy', 'max_depth': 10, 'min_samples_leaf': 5, 'min_samples_split': 4, 'n_estimators': 100}\n",
      "best score 0.9728289473684211\n"
     ]
    }
   ],
   "source": [
    "from sklearn.ensemble import RandomForestClassifier\n",
    "from sklearn.model_selection import KFold, GridSearchCV\n",
    "\n",
    "rf_model = RandomForestClassifier()\n",
    "grid_param = {'n_estimators' : [50,100,150],\n",
    "        'criterion' : [\"gini\", \"entropy\", \"log_loss\"],\n",
    "        'max_depth' : [5,10,15,20],\n",
    "        'min_samples_split' : [2,4,5],\n",
    "        'min_samples_leaf' : [1,3,5]}\n",
    "\n",
    "cv = KFold(n_splits = 5)\n",
    "\n",
    "gcv = GridSearchCV(rf_model, param_grid = grid_param, cv=cv, n_jobs = 4)\n",
    "\n",
    "gcv.fit(X_train, y_train)\n",
    "print('final params', gcv.best_params_)\n",
    "print('best score' , gcv.best_score_)\n"
   ]
  },
  {
   "cell_type": "code",
   "execution_count": 32,
   "metadata": {},
   "outputs": [
    {
     "name": "stdout",
     "output_type": "stream",
     "text": [
      "0.9804878048780488\n"
     ]
    }
   ],
   "source": [
    "model = gcv.best_estimator_\n",
    "\n",
    "print(model.score(X_test, y_test))"
   ]
  },
  {
   "cell_type": "markdown",
   "metadata": {},
   "source": [
    "## 6. 모형 성능 평가"
   ]
  },
  {
   "cell_type": "code",
   "execution_count": 33,
   "metadata": {},
   "outputs": [
    {
     "name": "stdout",
     "output_type": "stream",
     "text": [
      "[[127   4]\n",
      " [  2  72]]\n"
     ]
    }
   ],
   "source": [
    "# 모형 성능 평가 - Confusion Matrix 계산\n",
    "from sklearn import metrics \n",
    "model_matrix = metrics.confusion_matrix(y_test, y_hat)  \n",
    "print(model_matrix)"
   ]
  },
  {
   "cell_type": "markdown",
   "metadata": {},
   "source": [
    "- TP : 127, FP : 4, FN : 2, TN : 72 "
   ]
  },
  {
   "cell_type": "markdown",
   "metadata": {},
   "source": [
    "## 7. 모형 성능 평가 - 평가지표 계산"
   ]
  },
  {
   "cell_type": "code",
   "execution_count": 34,
   "metadata": {},
   "outputs": [
    {
     "name": "stdout",
     "output_type": "stream",
     "text": [
      "              precision    recall  f1-score   support\n",
      "\n",
      "           2       0.98      0.97      0.98       131\n",
      "           4       0.95      0.97      0.96        74\n",
      "\n",
      "    accuracy                           0.97       205\n",
      "   macro avg       0.97      0.97      0.97       205\n",
      "weighted avg       0.97      0.97      0.97       205\n",
      "\n"
     ]
    }
   ],
   "source": [
    "# 모형 성능 평가 - 평가지표 계산\n",
    "model_report = metrics.classification_report(y_test, y_hat)            \n",
    "print(model_report)"
   ]
  }
 ],
 "metadata": {
  "kernelspec": {
   "display_name": "Python 3",
   "language": "python",
   "name": "python3"
  },
  "language_info": {
   "codemirror_mode": {
    "name": "ipython",
    "version": 3
   },
   "file_extension": ".py",
   "mimetype": "text/x-python",
   "name": "python",
   "nbconvert_exporter": "python",
   "pygments_lexer": "ipython3",
   "version": "3.8.8"
  }
 },
 "nbformat": 4,
 "nbformat_minor": 4
}
